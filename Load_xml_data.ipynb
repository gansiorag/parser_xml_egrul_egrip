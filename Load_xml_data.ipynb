{
 "cells": [
  {
   "cell_type": "code",
   "execution_count": 3,
   "id": "d0935363",
   "metadata": {},
   "outputs": [],
   "source": [
    "import os\n",
    "import json\n",
    "import shutil\n",
    "from glob import glob\n",
    "from datetime import datetime\n",
    "import wget\n",
    "from time import sleep"
   ]
  },
  {
   "cell_type": "code",
   "execution_count": 4,
   "id": "246dc256",
   "metadata": {},
   "outputs": [],
   "source": [
    "# Получение xml сведений по ЕГРЮЛ и ЕГРИП с сайта https://egrul.itsoft.ru/ваш_огрн.xml по списку ОГРН"
   ]
  },
  {
   "cell_type": "code",
   "execution_count": 5,
   "id": "a6939bd1",
   "metadata": {},
   "outputs": [],
   "source": [
    "ogrns = ['1157746867981','1195476021663','1197232002967','1230100002967','1050100553095','1100107000531','1020100508515','1127232012698','1147232012586','1027200831756',\n",
    "'1097232030532','1237200000740','1117232036833','1147232029405','1027201593352','1037200562013','1027200774974','1117232054466','1027200780749','1107232036724',\n",
    "'1192130011490','1135543028532','1082130017419','1224400004938','1241300004505','1251300002689','1021300929572','1251300002678','1070721003506','1020700687644',\n",
    "'1227700440571','1140726000051','1022601614694','1212600000711','1090522000128','1240500021827','1190571001280','1030501263210','1241900002080','1131901004795',\n",
    "'1211900000047','1181901004053','1230800000694','1063812042590','1213800004263','1053827042301','1073810002595','1063808159986','1103850019206','1093819000175',\n",
    "'1193850012399','1023800733582','1163850065928','1153850012381','1123850035616','1093801002503','1193850012641','1023801537913','1233800011015','1173850024853',\n",
    "'1153850001414','1103820000096','1053808039614','1055753018364','1053301578241','1066147003504','1156196058710','1046135001175','1156196074210','1122651029071',\n",
    "'1146154000420','1066168060914','1246100019967','1136174002689','1026100770849','1186196017182','1076164005554','1206100040255','1246100025709','1036141000741',\n",
    "'1166196082106','1076140000672','1023403454161','1023404970797','1023405529883','1123444008016','1103443003949','1063459050687','1093459006530','1033400121732',\n",
    "'1083444002245','1243400001316','1133443012230','1073454000950','1183443012752','1183443018681','1023405760620','1102225006950','1122225003482','1212200025432'\n",
    "]"
   ]
  },
  {
   "cell_type": "code",
   "execution_count": 6,
   "id": "dde03390",
   "metadata": {},
   "outputs": [],
   "source": [
    "# Путь куда сохраняем данные\n",
    "path = '/home/gansior/MyProject/parser_xml_egrul_egrip/search_full_data/EGRUL/OGRN_egrul' \n",
    "for ogrnn in ogrns:\n",
    "    nmf = f'https://egrul.itsoft.ru/{ogrnn}.xml'\n",
    "    out = os.path.join(path, f'{ogrnn}.xml')\n",
    "    wget.download(nmf, out=out)\n",
    "    sleep(2)\n"
   ]
  },
  {
   "cell_type": "code",
   "execution_count": 7,
   "id": "ab3c0a19",
   "metadata": {},
   "outputs": [],
   "source": [
    "ogrns_egrip = ['321420500017696','305540423700017','310546803500019','318420500099152','320420500040995','323420500054722','323420500039000','314421313200012','321420500057866','324420500004283',\n",
    "'305422304900019','314420515300041','320420500075348','314425221300030','315421200007757','304420233600072','324420500099183','323420500044701','309420529300026','304422306300082',\n",
    "'319420500031241','323420500058232','321420500003820','321420500083020','324420500006820','316420500097100','325420500018966','314420515700114','324420500000026','318420500001403',\n",
    "'304420505500302','318420500102740','323420500102150','319420500078932','324420500025700','321420500053988','317420500082986','324420500075058','314420531000030','311420507300068',\n",
    "'325420500058431','304424613500108','325420500081864','319420500049529','320420500039825','323420500074675','311420235300017','321420500056652','305422829300011','322420500068030',\n",
    "'322420500088180','304420535600015','325420500082688','318420500060705','304425029200013','323420500050744','310423021000010','320420500047224','320420500062661','324420500037901',\n",
    "'317420500053792','321420500021630','319420500076481','321420500050835','322420500063969','316420500105115','318420500062959','318420500078363','311421713800016','323420500047602',\n",
    "'323420500060060','315422300008522','323420500055739','317420500065209','304420217000023','321420500092632','317420500060701','324420500036241','307423826900030','322420500096165',\n",
    "'311420515000076','319420500084671','305421801800019','320420500032371','316420500075107','325420500081972','304420511900105','325420500037211','319420500050882','324420500029157',\n",
    "'319420500063373','324420500012830','315420500000613','318420500032517','325420500013280','321420500109150','322420500026333','321420500021671','304423009900122','310425232800012'\n",
    "]"
   ]
  },
  {
   "cell_type": "code",
   "execution_count": 8,
   "id": "d4c976b4",
   "metadata": {},
   "outputs": [
    {
     "ename": "HTTPError",
     "evalue": "HTTP Error 429: Too Many Requests",
     "output_type": "error",
     "traceback": [
      "\u001b[31m---------------------------------------------------------------------------\u001b[39m",
      "\u001b[31mHTTPError\u001b[39m                                 Traceback (most recent call last)",
      "\u001b[36mCell\u001b[39m\u001b[36m \u001b[39m\u001b[32mIn[8]\u001b[39m\u001b[32m, line 6\u001b[39m\n\u001b[32m      4\u001b[39m nmf = \u001b[33mf\u001b[39m\u001b[33m'\u001b[39m\u001b[33mhttps://egrul.itsoft.ru/\u001b[39m\u001b[38;5;132;01m{\u001b[39;00mogrnn\u001b[38;5;132;01m}\u001b[39;00m\u001b[33m.xml\u001b[39m\u001b[33m'\u001b[39m\n\u001b[32m      5\u001b[39m out = os.path.join(path, \u001b[33mf\u001b[39m\u001b[33m'\u001b[39m\u001b[38;5;132;01m{\u001b[39;00mogrnn\u001b[38;5;132;01m}\u001b[39;00m\u001b[33m.xml\u001b[39m\u001b[33m'\u001b[39m)\n\u001b[32m----> \u001b[39m\u001b[32m6\u001b[39m \u001b[43mwget\u001b[49m\u001b[43m.\u001b[49m\u001b[43mdownload\u001b[49m\u001b[43m(\u001b[49m\u001b[43mnmf\u001b[49m\u001b[43m,\u001b[49m\u001b[43m \u001b[49m\u001b[43mout\u001b[49m\u001b[43m=\u001b[49m\u001b[43mout\u001b[49m\u001b[43m)\u001b[49m\n\u001b[32m      7\u001b[39m sleep(\u001b[32m2\u001b[39m)\n",
      "\u001b[36mFile \u001b[39m\u001b[32m~/MyProject/parser_xml_egrul_egrip/.venv_eg/lib/python3.12/site-packages/wget.py:526\u001b[39m, in \u001b[36mdownload\u001b[39m\u001b[34m(url, out, bar)\u001b[39m\n\u001b[32m    524\u001b[39m \u001b[38;5;28;01melse\u001b[39;00m:\n\u001b[32m    525\u001b[39m     binurl = url\n\u001b[32m--> \u001b[39m\u001b[32m526\u001b[39m (tmpfile, headers) = \u001b[43mulib\u001b[49m\u001b[43m.\u001b[49m\u001b[43murlretrieve\u001b[49m\u001b[43m(\u001b[49m\u001b[43mbinurl\u001b[49m\u001b[43m,\u001b[49m\u001b[43m \u001b[49m\u001b[43mtmpfile\u001b[49m\u001b[43m,\u001b[49m\u001b[43m \u001b[49m\u001b[43mcallback\u001b[49m\u001b[43m)\u001b[49m\n\u001b[32m    527\u001b[39m filename = detect_filename(url, out, headers)\n\u001b[32m    528\u001b[39m \u001b[38;5;28;01mif\u001b[39;00m outdir:\n",
      "\u001b[36mFile \u001b[39m\u001b[32m/usr/lib/python3.12/urllib/request.py:240\u001b[39m, in \u001b[36murlretrieve\u001b[39m\u001b[34m(url, filename, reporthook, data)\u001b[39m\n\u001b[32m    223\u001b[39m \u001b[38;5;250m\u001b[39m\u001b[33;03m\"\"\"\u001b[39;00m\n\u001b[32m    224\u001b[39m \u001b[33;03mRetrieve a URL into a temporary location on disk.\u001b[39;00m\n\u001b[32m    225\u001b[39m \n\u001b[32m   (...)\u001b[39m\u001b[32m    236\u001b[39m \u001b[33;03mdata file as well as the resulting HTTPMessage object.\u001b[39;00m\n\u001b[32m    237\u001b[39m \u001b[33;03m\"\"\"\u001b[39;00m\n\u001b[32m    238\u001b[39m url_type, path = _splittype(url)\n\u001b[32m--> \u001b[39m\u001b[32m240\u001b[39m \u001b[38;5;28;01mwith\u001b[39;00m contextlib.closing(\u001b[43murlopen\u001b[49m\u001b[43m(\u001b[49m\u001b[43murl\u001b[49m\u001b[43m,\u001b[49m\u001b[43m \u001b[49m\u001b[43mdata\u001b[49m\u001b[43m)\u001b[49m) \u001b[38;5;28;01mas\u001b[39;00m fp:\n\u001b[32m    241\u001b[39m     headers = fp.info()\n\u001b[32m    243\u001b[39m     \u001b[38;5;66;03m# Just return the local path and the \"headers\" for file://\u001b[39;00m\n\u001b[32m    244\u001b[39m     \u001b[38;5;66;03m# URLs. No sense in performing a copy unless requested.\u001b[39;00m\n",
      "\u001b[36mFile \u001b[39m\u001b[32m/usr/lib/python3.12/urllib/request.py:215\u001b[39m, in \u001b[36murlopen\u001b[39m\u001b[34m(url, data, timeout, cafile, capath, cadefault, context)\u001b[39m\n\u001b[32m    213\u001b[39m \u001b[38;5;28;01melse\u001b[39;00m:\n\u001b[32m    214\u001b[39m     opener = _opener\n\u001b[32m--> \u001b[39m\u001b[32m215\u001b[39m \u001b[38;5;28;01mreturn\u001b[39;00m \u001b[43mopener\u001b[49m\u001b[43m.\u001b[49m\u001b[43mopen\u001b[49m\u001b[43m(\u001b[49m\u001b[43murl\u001b[49m\u001b[43m,\u001b[49m\u001b[43m \u001b[49m\u001b[43mdata\u001b[49m\u001b[43m,\u001b[49m\u001b[43m \u001b[49m\u001b[43mtimeout\u001b[49m\u001b[43m)\u001b[49m\n",
      "\u001b[36mFile \u001b[39m\u001b[32m/usr/lib/python3.12/urllib/request.py:521\u001b[39m, in \u001b[36mOpenerDirector.open\u001b[39m\u001b[34m(self, fullurl, data, timeout)\u001b[39m\n\u001b[32m    519\u001b[39m \u001b[38;5;28;01mfor\u001b[39;00m processor \u001b[38;5;129;01min\u001b[39;00m \u001b[38;5;28mself\u001b[39m.process_response.get(protocol, []):\n\u001b[32m    520\u001b[39m     meth = \u001b[38;5;28mgetattr\u001b[39m(processor, meth_name)\n\u001b[32m--> \u001b[39m\u001b[32m521\u001b[39m     response = \u001b[43mmeth\u001b[49m\u001b[43m(\u001b[49m\u001b[43mreq\u001b[49m\u001b[43m,\u001b[49m\u001b[43m \u001b[49m\u001b[43mresponse\u001b[49m\u001b[43m)\u001b[49m\n\u001b[32m    523\u001b[39m \u001b[38;5;28;01mreturn\u001b[39;00m response\n",
      "\u001b[36mFile \u001b[39m\u001b[32m/usr/lib/python3.12/urllib/request.py:630\u001b[39m, in \u001b[36mHTTPErrorProcessor.http_response\u001b[39m\u001b[34m(self, request, response)\u001b[39m\n\u001b[32m    627\u001b[39m \u001b[38;5;66;03m# According to RFC 2616, \"2xx\" code indicates that the client's\u001b[39;00m\n\u001b[32m    628\u001b[39m \u001b[38;5;66;03m# request was successfully received, understood, and accepted.\u001b[39;00m\n\u001b[32m    629\u001b[39m \u001b[38;5;28;01mif\u001b[39;00m \u001b[38;5;129;01mnot\u001b[39;00m (\u001b[32m200\u001b[39m <= code < \u001b[32m300\u001b[39m):\n\u001b[32m--> \u001b[39m\u001b[32m630\u001b[39m     response = \u001b[38;5;28;43mself\u001b[39;49m\u001b[43m.\u001b[49m\u001b[43mparent\u001b[49m\u001b[43m.\u001b[49m\u001b[43merror\u001b[49m\u001b[43m(\u001b[49m\n\u001b[32m    631\u001b[39m \u001b[43m        \u001b[49m\u001b[33;43m'\u001b[39;49m\u001b[33;43mhttp\u001b[39;49m\u001b[33;43m'\u001b[39;49m\u001b[43m,\u001b[49m\u001b[43m \u001b[49m\u001b[43mrequest\u001b[49m\u001b[43m,\u001b[49m\u001b[43m \u001b[49m\u001b[43mresponse\u001b[49m\u001b[43m,\u001b[49m\u001b[43m \u001b[49m\u001b[43mcode\u001b[49m\u001b[43m,\u001b[49m\u001b[43m \u001b[49m\u001b[43mmsg\u001b[49m\u001b[43m,\u001b[49m\u001b[43m \u001b[49m\u001b[43mhdrs\u001b[49m\u001b[43m)\u001b[49m\n\u001b[32m    633\u001b[39m \u001b[38;5;28;01mreturn\u001b[39;00m response\n",
      "\u001b[36mFile \u001b[39m\u001b[32m/usr/lib/python3.12/urllib/request.py:559\u001b[39m, in \u001b[36mOpenerDirector.error\u001b[39m\u001b[34m(self, proto, *args)\u001b[39m\n\u001b[32m    557\u001b[39m \u001b[38;5;28;01mif\u001b[39;00m http_err:\n\u001b[32m    558\u001b[39m     args = (\u001b[38;5;28mdict\u001b[39m, \u001b[33m'\u001b[39m\u001b[33mdefault\u001b[39m\u001b[33m'\u001b[39m, \u001b[33m'\u001b[39m\u001b[33mhttp_error_default\u001b[39m\u001b[33m'\u001b[39m) + orig_args\n\u001b[32m--> \u001b[39m\u001b[32m559\u001b[39m     \u001b[38;5;28;01mreturn\u001b[39;00m \u001b[38;5;28;43mself\u001b[39;49m\u001b[43m.\u001b[49m\u001b[43m_call_chain\u001b[49m\u001b[43m(\u001b[49m\u001b[43m*\u001b[49m\u001b[43margs\u001b[49m\u001b[43m)\u001b[49m\n",
      "\u001b[36mFile \u001b[39m\u001b[32m/usr/lib/python3.12/urllib/request.py:492\u001b[39m, in \u001b[36mOpenerDirector._call_chain\u001b[39m\u001b[34m(self, chain, kind, meth_name, *args)\u001b[39m\n\u001b[32m    490\u001b[39m \u001b[38;5;28;01mfor\u001b[39;00m handler \u001b[38;5;129;01min\u001b[39;00m handlers:\n\u001b[32m    491\u001b[39m     func = \u001b[38;5;28mgetattr\u001b[39m(handler, meth_name)\n\u001b[32m--> \u001b[39m\u001b[32m492\u001b[39m     result = \u001b[43mfunc\u001b[49m\u001b[43m(\u001b[49m\u001b[43m*\u001b[49m\u001b[43margs\u001b[49m\u001b[43m)\u001b[49m\n\u001b[32m    493\u001b[39m     \u001b[38;5;28;01mif\u001b[39;00m result \u001b[38;5;129;01mis\u001b[39;00m \u001b[38;5;129;01mnot\u001b[39;00m \u001b[38;5;28;01mNone\u001b[39;00m:\n\u001b[32m    494\u001b[39m         \u001b[38;5;28;01mreturn\u001b[39;00m result\n",
      "\u001b[36mFile \u001b[39m\u001b[32m/usr/lib/python3.12/urllib/request.py:639\u001b[39m, in \u001b[36mHTTPDefaultErrorHandler.http_error_default\u001b[39m\u001b[34m(self, req, fp, code, msg, hdrs)\u001b[39m\n\u001b[32m    638\u001b[39m \u001b[38;5;28;01mdef\u001b[39;00m\u001b[38;5;250m \u001b[39m\u001b[34mhttp_error_default\u001b[39m(\u001b[38;5;28mself\u001b[39m, req, fp, code, msg, hdrs):\n\u001b[32m--> \u001b[39m\u001b[32m639\u001b[39m     \u001b[38;5;28;01mraise\u001b[39;00m HTTPError(req.full_url, code, msg, hdrs, fp)\n",
      "\u001b[31mHTTPError\u001b[39m: HTTP Error 429: Too Many Requests"
     ]
    }
   ],
   "source": [
    "# Путь куда сохраняем данные\n",
    "path = '/home/gansior/MyProject/parser_xml_egrul_egrip/search_full_data/EGRIP/OGRN_egrip' \n",
    "for ogrnn in ogrns_egrip:\n",
    "    nmf = f'https://egrul.itsoft.ru/{ogrnn}.xml'\n",
    "    out = os.path.join(path, f'{ogrnn}.xml')\n",
    "    wget.download(nmf, out=out)\n",
    "    sleep(2)"
   ]
  }
 ],
 "metadata": {
  "kernelspec": {
   "display_name": ".venv_eg",
   "language": "python",
   "name": "python3"
  },
  "language_info": {
   "codemirror_mode": {
    "name": "ipython",
    "version": 3
   },
   "file_extension": ".py",
   "mimetype": "text/x-python",
   "name": "python",
   "nbconvert_exporter": "python",
   "pygments_lexer": "ipython3",
   "version": "3.12.3"
  }
 },
 "nbformat": 4,
 "nbformat_minor": 5
}
