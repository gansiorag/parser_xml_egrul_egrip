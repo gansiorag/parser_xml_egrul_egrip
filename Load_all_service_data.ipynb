{
 "cells": [
  {
   "cell_type": "code",
   "execution_count": 2,
   "id": "d0935363",
   "metadata": {},
   "outputs": [],
   "source": [
    "import sqlite3  # для операций с базой данных SQLite  \n",
    "import csv  # для обработки CSV-файлов [6](https://w3resource.com/sqlite/snippets/convert-csv-to-sqlite.php)  "
   ]
  },
  {
   "cell_type": "code",
   "execution_count": null,
   "id": "246dc256",
   "metadata": {},
   "outputs": [],
   "source": [
    "# Установить соединение с базой данных SQLite заполняет таблицу codes_fns данными формата \n",
    "conn = sqlite3.connect('/dataset/egrul_egrip.db')  \n",
    "\n",
    "# Создать объект курсора для выполнения команд SQL  \n",
    "cursor = conn.cursor()  \n",
    "\n",
    "# Открыть CSV-файл  \n",
    "with open('/dataset/codes_fns_202509021103.csv', 'r') as file:  \n",
    "    # Создать объект читателя CSV  \n",
    "    csv_reader = csv.reader(file)  \n",
    "    # Пропустить строку заголовка  \n",
    "    next(csv_reader)  \n",
    "    # Вставить каждую строку в таблицу  \n",
    "    for row in csv_reader:  \n",
    "        cursor.execute('''\n",
    "                        INSERT INTO codes_fns (cod_fns, naim, is_active, load_dt)\n",
    "                        VALUES (?, ?, ?, ?)\n",
    "                    ''', row) \n",
    "\n",
    "    # Сохранить изменения и закрыть соединение  \n",
    "    conn.commit()  \n",
    "conn.close()  "
   ]
  },
  {
   "cell_type": "code",
   "execution_count": null,
   "id": "9af77303",
   "metadata": {},
   "outputs": [],
   "source": [
    "# Установить соединение с базой данных SQLite заполняет таблицу formats_egrip_fni данными формата  \n",
    "conn = sqlite3.connect('/dataset/egrul_egrip.db')  \n",
    "\n",
    "# Создать объект курсора для выполнения команд SQL  \n",
    "cursor = conn.cursor()  \n",
    "\n",
    "# Открыть CSV-файл  \n",
    "with open('/dataset/formats_egrip_fni_202509021114.csv', 'r') as file:  \n",
    "    # Создать объект читателя CSV  \n",
    "    csv_reader = csv.reader(file)  \n",
    "    # Пропустить строку заголовка  \n",
    "    next(csv_reader)  \n",
    "    # Вставить каждую строку в таблицу  \n",
    "    for row in csv_reader:  \n",
    "        cursor.execute('''\n",
    "                INSERT INTO formats_egrip_fni\n",
    "                (name_tbl, name_fld, format_4_05, format_4_06, is_active_format_4_06)\n",
    "                VALUES(?, ?, ?, ?, ?);\n",
    "                    ''', row) \n",
    "\n",
    "    # Сохранить изменения и закрыть соединение  \n",
    "    conn.commit()  \n",
    "conn.close()  "
   ]
  },
  {
   "cell_type": "code",
   "execution_count": null,
   "id": "dde03390",
   "metadata": {},
   "outputs": [],
   "source": [
    "# Установить соединение с базой данных SQLite заполняет таблицу formats_egrul_fni данными формата \n",
    "conn = sqlite3.connect('/home/gansior/MyProject/parser_xml_egrul_egrip/dataset/egrul_egrip.db')  \n",
    "\n",
    "# Создать объект курсора для выполнения команд SQL  \n",
    "cursor = conn.cursor()  \n",
    "\n",
    "# Открыть CSV-файл  \n",
    "with open('/home/gansior/MyProject/parser_xml_egrul_egrip/dataset/formats_egrul_fni_202509021123.csv', 'r') as file:  \n",
    "    # Создать объект читателя CSV  \n",
    "    csv_reader = csv.reader(file)  \n",
    "    # Пропустить строку заголовка  \n",
    "    next(csv_reader)  \n",
    "    # Вставить каждую строку в таблицу  \n",
    "    for row in csv_reader:  \n",
    "        cursor.execute('''\n",
    "                INSERT INTO formats_egrul_fni\n",
    "                (name_tbl, name_fld, format_4_01, format_4_07, is_active_format_4_07)\n",
    "                VALUES(?, ?, ?, ?, ?);\n",
    "                    ''', row) \n",
    "\n",
    "    # Сохранить изменения и закрыть соединение  \n",
    "    conn.commit()  \n",
    "conn.close() "
   ]
  },
  {
   "cell_type": "code",
   "execution_count": null,
   "id": "16d3dba5",
   "metadata": {},
   "outputs": [],
   "source": [
    "# Установить соединение с базой данных SQLite (создаёт базу данных, если она не существует)  \n",
    "conn = sqlite3.connect('/home/gansior/MyProject/parser_xml_egrul_egrip/dataset/egrul_egrip.db')  \n",
    "\n",
    "# Создать объект курсора для выполнения команд SQL  \n",
    "cursor = conn.cursor()  \n",
    "\n",
    "# Открыть CSV-файл  Ответь - Мне очень нужно записать много строк в таблицу базы, как это сделать максимально быстро. Приведи код на python.\n",
    "with open('/home/gansior/MyProject/parser_xml_egrul_egrip/dataset/Атрибуты ЕГРЮЛ ИФНС формат 4_0_7.csv', 'r') as file:  \n",
    "    # Создать объект читателя CSV  \n",
    "    csv_reader = csv.reader(file)  \n",
    "    # Пропустить строку заголовка  \n",
    "    next(csv_reader)  \n",
    "    # Вставить каждую строку в таблицу  \n",
    "    for line in csv_reader:\n",
    "        #print(line)\n",
    "        row = line[0].split('^') \n",
    "        cursor.execute('''\n",
    "                        INSERT INTO formats_egrul_fni_4_07 (field1, field2, field3,\n",
    "                        field4, field5, field6, field7, field8, field9, field10, field11)\n",
    "                        VALUES (?, ?, ?, ?, ?, ?, ?, ?, ?, ?, ?)\n",
    "                    ''', row) \n",
    "\n",
    "    # Сохранить изменения и закрыть соединение  \n",
    "    conn.commit()  \n",
    "conn.close()  "
   ]
  }
 ],
 "metadata": {
  "kernelspec": {
   "display_name": ".venv_eg",
   "language": "python",
   "name": "python3"
  },
  "language_info": {
   "codemirror_mode": {
    "name": "ipython",
    "version": 3
   },
   "file_extension": ".py",
   "mimetype": "text/x-python",
   "name": "python",
   "nbconvert_exporter": "python",
   "pygments_lexer": "ipython3",
   "version": "3.12.3"
  }
 },
 "nbformat": 4,
 "nbformat_minor": 5
}
